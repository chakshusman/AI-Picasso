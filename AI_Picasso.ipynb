{
  "nbformat": 4,
  "nbformat_minor": 0,
  "metadata": {
    "colab": {
      "provenance": [],
      "toc_visible": true
    },
    "kernelspec": {
      "name": "python3",
      "display_name": "Python 3"
    },
    "language_info": {
      "name": "python"
    }
  },
  "cells": [
    {
      "cell_type": "code",
      "execution_count": 2,
      "metadata": {
        "id": "NaKWJrKJW4Ts"
      },
      "outputs": [],
      "source": [
        "import tensorflow as tf\n",
        "from tensorflow import keras\n",
        "import matplotlib.pyplot as plt\n",
        "import numpy as np\n",
        "import tensorflow_hub as hub"
      ]
    },
    {
      "cell_type": "code",
      "source": [
        "hub_model = hub.load('https://tfhub.dev/google/magenta/arbitrary-image-stylization-v1-256/2')\n"
      ],
      "metadata": {
        "id": "FIH3Fpe1W4-R"
      },
      "execution_count": 3,
      "outputs": []
    },
    {
      "cell_type": "code",
      "source": [
        "# Load your photo\n",
        "content_image = plt.imread(\"camera_lense_0.jpg\")\n",
        "\n",
        "# Load an artwork for style\n",
        "style_image = plt.imread(\"starrynight.jpg\")\n"
      ],
      "metadata": {
        "id": "--l6hLdwXRTL"
      },
      "execution_count": 8,
      "outputs": []
    },
    {
      "cell_type": "code",
      "source": [
        "stylized_image = hub_model(tf.constant(content_image), tf.constant(style_image))[0]"
      ],
      "metadata": {
        "id": "-KyKXGAFY39N"
      },
      "execution_count": null,
      "outputs": []
    },
    {
      "cell_type": "code",
      "source": [
        "plt.figure(figsize=(10, 10))\n",
        "\n",
        "plt.subplot(1, 3, 1)\n",
        "plt.title(\"Content Image\")\n",
        "plt.imshow(content_image)\n",
        "\n",
        "plt.subplot(1, 3, 2)\n",
        "plt.title(\"Style Image\")\n",
        "plt.imshow(style_image)\n",
        "\n",
        "plt.subplot(1, 3, 3)\n",
        "plt.title(\"Stylized Image\")\n",
        "plt.imshow(stylized_image)\n",
        "\n",
        "plt.show()"
      ],
      "metadata": {
        "id": "jz0LXkdIaFsm"
      },
      "execution_count": null,
      "outputs": []
    },
    {
      "cell_type": "code",
      "source": [
        "keras.preprocessing.image.save_img(\"stylized_image.jpg\", stylized_image.numpy())"
      ],
      "metadata": {
        "id": "Pxv8br3CaKR9"
      },
      "execution_count": null,
      "outputs": []
    }
  ]
}